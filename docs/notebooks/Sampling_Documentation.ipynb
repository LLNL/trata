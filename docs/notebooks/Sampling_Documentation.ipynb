{
 "cells": [
  {
   "cell_type": "markdown",
   "metadata": {
    "slideshow": {
     "slide_type": "slide"
    }
   },
   "source": [
    "<h1>Sampling Components</h1>\n",
    "<p>by: Andrew Fillmore</p>\n",
    "<p>fillmore1@llnl.gov</p>"
   ]
  },
  {
   "cell_type": "code",
   "execution_count": 1,
   "metadata": {
    "slideshow": {
     "slide_type": "subslide"
    }
   },
   "outputs": [],
   "source": [
    "import matplotlib.pyplot as plt\n",
    "%matplotlib inline"
   ]
  },
  {
   "cell_type": "markdown",
   "metadata": {
    "slideshow": {
     "slide_type": "slide"
    }
   },
   "source": [
    "<h2>The Sampling Package</h2>\n",
    "<p>The <b>Sampling</b> package exists as a pip package with 2 modules: <code>sampler</code> and <code>composite_samples</code>.</p>\n",
    "<p>The <code>sampler</code> module defines a number of different samplers, as well as a heirarchy of base classes for these samplers. It is possible to create your own samplers by extending one of these base classes.</p>\n",
    "<p>The <code>composite_samples</code> module defines an object that can use several different samplers to create and hold a set of sample points.</p>"
   ]
  },
  {
   "cell_type": "code",
   "execution_count": 2,
   "metadata": {
    "slideshow": {
     "slide_type": "subslide"
    }
   },
   "outputs": [],
   "source": [
    "import sampling_methods.sampler as sampler\n",
    "import sampling_methods.composite_samples as composite_samples"
   ]
  },
  {
   "cell_type": "markdown",
   "metadata": {
    "slideshow": {
     "slide_type": "slide"
    }
   },
   "source": [
    "<h2>The sampler Module</h2>\n",
    "<p>All samplers in the <code>samples</code> module implement <code>sample_points()</code>. This method takes a set of keyword arguemnts and returns a 2d numpy array of sample points.</p> \n",
    "<p>To create a set of points, simply call the <code>SamplePoints()</code> method with the required keywords.</p>\n",
    "<p>Here we are creating a set of 10 points in the 3 dimensional unit cube using a Latin Hyper-Cube technique.</p>"
   ]
  },
  {
   "cell_type": "code",
   "execution_count": 3,
   "metadata": {
    "slideshow": {
     "slide_type": "subslide"
    }
   },
   "outputs": [
    {
     "name": "stdout",
     "output_type": "stream",
     "text": [
      "[[0.05899853915235484 0.8068172361082304 0.027186961142066902]\n",
      " [0.38371110994762736 0.7482920990674269 0.8941152457340238]\n",
      " [0.7697800607153311 0.4718726724214037 0.23636411901784526]\n",
      " [0.8802802837530103 0.02368791500495683 0.4299545393086843]\n",
      " [0.9107215078860229 0.923967253140393 0.9873337531868436]\n",
      " [0.47570925261272645 0.36915236127422074 0.1001684225070699]\n",
      " [0.5999671012783326 0.59782230637219 0.7559568492449348]\n",
      " [0.17259309975833284 0.6586352377912569 0.3285880520672139]\n",
      " [0.214144823952909 0.22975422055764316 0.5337357838002607]\n",
      " [0.6356720596488105 0.16874853266132306 0.6986954405535309]]\n"
     ]
    }
   ],
   "source": [
    "myLHSampler = sampler.LatinHyperCubeSampler()\n",
    "lhsPoints = myLHSampler.sample_points(num_points=10, box=[[0, 1], [0, 1], [0, 1]], seed=2018)\n",
    "print(lhsPoints)"
   ]
  },
  {
   "cell_type": "markdown",
   "metadata": {
    "slideshow": {
     "slide_type": "slide"
    }
   },
   "source": [
    "<p>These points are organized such that each column corresponds with a dimension and each row coresponds with a point.</p>"
   ]
  },
  {
   "cell_type": "code",
   "execution_count": 4,
   "metadata": {
    "slideshow": {
     "slide_type": "subslide"
    }
   },
   "outputs": [
    {
     "name": "stdout",
     "output_type": "stream",
     "text": [
      "[0.05899853915235484 0.38371110994762736 0.7697800607153311\n",
      " 0.8802802837530103 0.9107215078860229 0.47570925261272645\n",
      " 0.5999671012783326 0.17259309975833284 0.214144823952909\n",
      " 0.6356720596488105]\n",
      "There are 10 values in this dimension\n"
     ]
    }
   ],
   "source": [
    "dimension0 = lhsPoints[:, 0]\n",
    "print(dimension0)\n",
    "print(\"There are {} values in this dimension\".format(len(dimension0)))"
   ]
  },
  {
   "cell_type": "code",
   "execution_count": 5,
   "metadata": {
    "slideshow": {
     "slide_type": "subslide"
    }
   },
   "outputs": [
    {
     "name": "stdout",
     "output_type": "stream",
     "text": [
      "[0.05899853915235484 0.8068172361082304 0.027186961142066902]\n",
      "This point is 3 dimensional\n"
     ]
    }
   ],
   "source": [
    "point0 = lhsPoints[0, :]\n",
    "print(point0)\n",
    "print(\"This point is {} dimensional\".format(len(point0)))"
   ]
  },
  {
   "cell_type": "markdown",
   "metadata": {
    "slideshow": {
     "slide_type": "slide"
    }
   },
   "source": [
    "<p>Each sampler object will have a different implementation of <code>sample_points()</code> and often will have its own unique set of keyword arguments.</p><p>For instance in <code>CartesianCrossSampler</code> the points are generated by taking the cartesian cross product of a set of divisions in each dimension. It requires that the number of divisions in each dimension be specified.</p><p>Here we generate 20 points with 5 division in the 0th dimension and 4 divisions in the 1st dimension</p>"
   ]
  },
  {
   "cell_type": "code",
   "execution_count": 6,
   "metadata": {
    "slideshow": {
     "slide_type": "subslide"
    }
   },
   "outputs": [
    {
     "data": {
      "text/plain": [
       "<matplotlib.collections.PathCollection at 0x2aabf6f62f10>"
      ]
     },
     "execution_count": 6,
     "metadata": {},
     "output_type": "execute_result"
    },
    {
     "data": {
      "image/png": "[encoded data removed]",
      "text/plain": [
       "<Figure size 640x480 with 1 Axes>"
      ]
     },
     "metadata": {},
     "output_type": "display_data"
    }
   ],
   "source": [
    "myCCSampler = sampler.CartesianCrossSampler()\n",
    "ccPoints = myCCSampler.sample_points(num_divisions=[5, 4], box=[[0, 1], [0, 1]]).T\n",
    "plt.scatter(ccPoints[0], ccPoints[1])"
   ]
  },
  {
   "cell_type": "markdown",
   "metadata": {
    "slideshow": {
     "slide_type": "slide"
    }
   },
   "source": [
    "<p><code>sample_points()</code> is a static method. Thus it can be accessed directly from any sampler without having to instatiate it.</p>"
   ]
  },
  {
   "cell_type": "code",
   "execution_count": 7,
   "metadata": {
    "slideshow": {
     "slide_type": "subslide"
    }
   },
   "outputs": [
    {
     "data": {
      "text/plain": [
       "<matplotlib.collections.PathCollection at 0x2aabff07ca90>"
      ]
     },
     "execution_count": 7,
     "metadata": {},
     "output_type": "execute_result"
    },
    {
     "data": {
      "image/png": "[encoded data removed]",
      "text/plain": [
       "<Figure size 640x480 with 1 Axes>"
      ]
     },
     "metadata": {},
     "output_type": "display_data"
    }
   ],
   "source": [
    "lhsStaticPoints = sampler.LatinHyperCubeSampler.sample_points(num_points=30, box=[[-1, 2], [-3, 4]], seed=2019).T\n",
    "plt.scatter(lhsStaticPoints[0], lhsStaticPoints[1])"
   ]
  },
  {
   "cell_type": "markdown",
   "metadata": {
    "slideshow": {
     "slide_type": "slide"
    }
   },
   "source": [
    "<b>The list of all implemented samplers can be accessed at the <a href=\"https://lc.llnl.gov/confluence/display/UQP\">UQ pipline wiki</a> </b>"
   ]
  },
  {
   "cell_type": "markdown",
   "metadata": {
    "slideshow": {
     "slide_type": "slide"
    }
   },
   "source": [
    "<h2>The composite_samples Module</h2>\n",
    "<p>The <code>composite_samples</code> module provides a way to generate a collated set of points from multiple samplers.</p>\n",
    "<p> The primary object that <code>composite_samples</code> provides is the <code>Samples</code> object.</p> "
   ]
  },
  {
   "cell_type": "code",
   "execution_count": 8,
   "metadata": {
    "slideshow": {
     "slide_type": "subslide"
    }
   },
   "outputs": [],
   "source": [
    "mySamples = composite_samples.Samples()"
   ]
  },
  {
   "cell_type": "markdown",
   "metadata": {
    "slideshow": {
     "slide_type": "slide"
    }
   },
   "source": [
    "<p>To use a <code>Samples</code> object, first add the variables you want to sample on. This includes a name, lower extent, upper extent, and default value.</p>\n",
    "<p>Here we add two continuous variables. 'X' has a range of [-2,3] and a default value of 2. 'Y' has a range of [4,5] and a default value of 4.2.</p>"
   ]
  },
  {
   "cell_type": "code",
   "execution_count": 9,
   "metadata": {
    "slideshow": {
     "slide_type": "subslide"
    }
   },
   "outputs": [],
   "source": [
    "mySamples.set_continuous_variable('X', -2.0, 2.0, 3.0)\n",
    "mySamples.set_continuous_variable('Y',  4.0, 4.2, 5.0)"
   ]
  },
  {
   "cell_type": "markdown",
   "metadata": {
    "slideshow": {
     "slide_type": "slide"
    }
   },
   "source": [
    "<p>To generate samples based on these variables we give the variables we want to sample, the sampler (from the <code>sampler</code> module), as well as any parameters that will be passed to the sampler as keyword arguments to the <code>generate_samples()</code> method.\n",
    "<blockquote>Note: The arguments for 'box' and 'default' will automatically be passed to the sampler from the values given when adding variables, so there is no need to specify them explicitly</blockquote></p>\n",
    "<p>To access the points in the <code>Sampler</code> object use the <code>get_points()</code> method. This method will return the points for the variable name or list of variable names given. If no argument is given it will return the points for all variables. The order of the variables is not guarenteed when no arguemtns are given. If a specific order is required it is better to explicitly specify that order in the argument</p>"
   ]
  },
  {
   "cell_type": "code",
   "execution_count": 10,
   "metadata": {
    "slideshow": {
     "slide_type": "subslide"
    }
   },
   "outputs": [
    {
     "name": "stdout",
     "output_type": "stream",
     "text": [
      "[[-1.6467928016682647 4.717684177332469]\n",
      " [-1.1999645904013851 4.932355352418508]\n",
      " [-0.5363032324796249 4.552936651771095]\n",
      " [-0.1516745254930323 4.393133117672512]\n",
      " [1.0117994152258714 4.196231106949166]\n",
      " [0.2201117766508247 4.299395971020031]\n",
      " [1.5885084291701626 4.4749290656254805]\n",
      " [2.1245754939249766 4.638726167257663]\n",
      " [2.9871525010721944 4.837599370902022]\n",
      " [0.5362919454792521 4.063876233633892]]\n"
     ]
    }
   ],
   "source": [
    "mySamples.generate_samples(['X','Y'], sampler.LatinHyperCubeSampler(), num_points=10, seed=30)\n",
    "myPoints = mySamples.get_points(['X', 'Y'])\n",
    "print(myPoints)"
   ]
  },
  {
   "cell_type": "markdown",
   "metadata": {
    "slideshow": {
     "slide_type": "slide"
    }
   },
   "source": [
    "<p>Calling <code>generate_samples()</code> multiple times from the same <code>Samples</code> object will cause the generate points to be appended to the points already generated</p>"
   ]
  },
  {
   "cell_type": "code",
   "execution_count": 11,
   "metadata": {
    "slideshow": {
     "slide_type": "subslide"
    }
   },
   "outputs": [
    {
     "name": "stdout",
     "output_type": "stream",
     "text": [
      "There are currently 10 points in mySamples\n",
      "Now there are 25 points in mySamples\n"
     ]
    },
    {
     "data": {
      "text/plain": [
       "<matplotlib.collections.PathCollection at 0x2aabff1003a0>"
      ]
     },
     "execution_count": 11,
     "metadata": {},
     "output_type": "execute_result"
    },
    {
     "data": {
      "image/png": "[encoded data removed]",
      "text/plain": [
       "<Figure size 640x480 with 1 Axes>"
      ]
     },
     "metadata": {},
     "output_type": "display_data"
    }
   ],
   "source": [
    "print(\"There are currently {} points in mySamples\".format(len(mySamples.get_points()[:,0])))\n",
    "\n",
    "NUM_POINTS_TO_ADD = 15\n",
    "mySamples.generate_samples(['X', 'Y'], sampler.CornerSampler(), num_points=NUM_POINTS_TO_ADD)\n",
    "print(\"Now there are {} points in mySamples\".format(len(mySamples.get_points()[:, 0])))\n",
    "plt.scatter(mySamples.get_points('X'), mySamples.get_points('Y'))"
   ]
  },
  {
   "cell_type": "markdown",
   "metadata": {
    "slideshow": {
     "slide_type": "slide"
    }
   },
   "source": [
    "<p>We can also add variables after points have already been generated and  generate points on specific variables.</p>\n",
    "<p>Here we add the variable 'Z' and then sample 25 points from a normal distribution on 'Z'</p>\n",
    "<blockquote>Note: It's up to the user to ensure that the number of points in each dimension match.</blockquote>"
   ]
  },
  {
   "cell_type": "code",
   "execution_count": 12,
   "metadata": {
    "slideshow": {
     "slide_type": "subslide"
    }
   },
   "outputs": [
    {
     "name": "stdout",
     "output_type": "stream",
     "text": [
      "[[-1.6467928016682647 4.717684177332469 0.9174789006300794]\n",
      " [-1.1999645904013851 4.932355352418508 0.9332947213960967]\n",
      " [-0.5363032324796249 4.552936651771095 0.9146029650556975]\n",
      " [-0.1516745254930323 4.393133117672512 0.9285692048555078]\n",
      " [1.0117994152258714 4.196231106949166 0.9835820127306313]\n",
      " [0.2201117766508247 4.299395971020031 0.9291487574416958]\n",
      " [1.5885084291701626 4.4749290656254805 1.1197568758720866]\n",
      " [2.1245754939249766 4.638726167257663 0.9278386677193665]\n",
      " [2.9871525010721944 4.837599370902022 0.9226305960368443]\n",
      " [0.5362919454792521 4.063876233633892 1.11303119058151]\n",
      " [-2.0 4.0 1.0038164707609039]\n",
      " [-2.0 5.0 0.9122557638030913]\n",
      " [3.0 4.0 0.850664202908764]\n",
      " [3.0 5.0 1.1104277201607113]\n",
      " [-2.0 4.0 1.028841071164789]\n",
      " [-2.0 5.0 0.922805813840874]\n",
      " [3.0 4.0 0.9757748089419751]\n",
      " [3.0 5.0 0.8308226639445921]\n",
      " [-2.0 4.0 1.0681363769767682]\n",
      " [-2.0 5.0 0.7348658001720132]\n",
      " [3.0 4.0 0.8441432755180188]\n",
      " [3.0 5.0 1.092613719485721]\n",
      " [-2.0 4.0 1.1085246493379926]\n",
      " [-2.0 5.0 0.9328617814075416]\n",
      " [3.0 4.0 0.8584226907484359]]\n",
      "The mean of 'Z' is 0.9585964280596684\n",
      "The standard deviation of 'Z' is 0.09934640350600223\n"
     ]
    }
   ],
   "source": [
    "mySamples.set_continuous_variable('Z', -1, 2, 3)\n",
    "mySamples.generate_samples(['Z'], sampler.ProbabilityDensityFunctionSampler(),\n",
    "                           num_points=25, dist='norm', loc=[1], scale=[.1])  # loc: mean, scale: standard deviation\n",
    "\n",
    "print(mySamples.get_points(['X', 'Y', 'Z']))\n",
    "print(\"The mean of 'Z' is {}\".format(mySamples.get_points('Z').mean()))\n",
    "print(\"The standard deviation of 'Z' is {}\".format(mySamples.get_points('Z').std()))"
   ]
  },
  {
   "cell_type": "markdown",
   "metadata": {
    "slideshow": {
     "slide_type": "slide"
    }
   },
   "source": [
    "<h2>Creating Your Own Sampler</h2>\n",
    "<p>To implement your own sampler that can interact with the rest of the Sampling Components your sampler must inherite from either ContinuousSampler, DiscreteSampler, or both. Which base class your sampler inherits from will depend what kind of variables it can handle.</p>\n",
    "<p>At the class level, the variable <code>name</code> will hold the name of the Sampler, for use in the <code>str</code> and <code>repr</code> methods.</p>\n",
    "<p>The only method you are required to implement is <code>sample_points()</code>. This method will contain the logic for generating points. It will take a set of arbitrary arguments and return a 2d numpy array, in which each row corresponds to a point.</p>\n",
    "<p>Here we will define a new sampler that will return the numbers 1 to N in each dimension. It should take a number of points to generate <code>num_points</code> and the number of dimensions <code>num_dim</code> as its arguments</p>"
   ]
  },
  {
   "cell_type": "code",
   "execution_count": 16,
   "metadata": {
    "slideshow": {
     "slide_type": "subslide"
    }
   },
   "outputs": [],
   "source": [
    "import numpy as np\n",
    "\n",
    "\n",
    "class RangeSampler(sampler.ContinuousSampler):\n",
    "    name = 'Range'\n",
    "    \n",
    "    @staticmethod\n",
    "    def sample_points(num_points, num_dim, **kwargs):\n",
    "        \n",
    "        return np.array([np.arange(1, int(num_points)+1)]*int(num_dim)).T"
   ]
  },
  {
   "cell_type": "code",
   "execution_count": 17,
   "metadata": {
    "slideshow": {
     "slide_type": "subslide"
    }
   },
   "outputs": [
    {
     "data": {
      "text/plain": [
       "array([[ 1,  1,  1],\n",
       "       [ 2,  2,  2],\n",
       "       [ 3,  3,  3],\n",
       "       [ 4,  4,  4],\n",
       "       [ 5,  5,  5],\n",
       "       [ 6,  6,  6],\n",
       "       [ 7,  7,  7],\n",
       "       [ 8,  8,  8],\n",
       "       [ 9,  9,  9],\n",
       "       [10, 10, 10]])"
      ]
     },
     "execution_count": 17,
     "metadata": {},
     "output_type": "execute_result"
    }
   ],
   "source": [
    "RangeSampler().sample_points(num_points=10, num_dim=3)"
   ]
  },
  {
   "cell_type": "markdown",
   "metadata": {
    "slideshow": {
     "slide_type": "slide"
    }
   },
   "source": [
    "<p>Because we have followed the API, <code>RangeSampler</code> can now be used with <code>composite_samples</code></p>"
   ]
  },
  {
   "cell_type": "code",
   "execution_count": 18,
   "metadata": {
    "slideshow": {
     "slide_type": "subslide"
    }
   },
   "outputs": [
    {
     "name": "stdout",
     "output_type": "stream",
     "text": [
      "[[ 1.  1.]\n",
      " [ 2.  2.]\n",
      " [ 3.  3.]\n",
      " [ 4.  4.]\n",
      " [ 5.  5.]\n",
      " [ 6.  6.]\n",
      " [ 7.  7.]\n",
      " [ 8.  8.]\n",
      " [ 9.  9.]\n",
      " [10. 10.]\n",
      " [11. 11.]\n",
      " [12. 12.]\n",
      " [13. 13.]\n",
      " [14. 14.]\n",
      " [15. 15.]\n",
      " [16. 16.]\n",
      " [17. 17.]\n",
      " [18. 18.]\n",
      " [19. 19.]\n",
      " [20. 20.]\n",
      " [21. 21.]\n",
      " [22. 22.]\n",
      " [23. 23.]\n",
      " [24. 24.]\n",
      " [25. 25.]\n",
      " [26. 26.]\n",
      " [27. 27.]\n",
      " [28. 28.]\n",
      " [29. 29.]\n",
      " [30. 30.]]\n"
     ]
    }
   ],
   "source": [
    "newSamples = composite_samples.Samples()\n",
    "newSamples.set_continuous_variable('x', 0, 0, 1)\n",
    "newSamples.set_continuous_variable('y', 0, 0, 1)\n",
    "newSamples.generate_samples(['x', 'y'], RangeSampler(), num_points=30, num_dim=2)\n",
    "print(newSamples.get_points())\n"
   ]
  },
  {
   "cell_type": "markdown",
   "metadata": {
    "slideshow": {
     "slide_type": "slide"
    }
   },
   "source": [
    "<h3>The basic outline for implementing a sampler</h3>   \n",
    "<code>    class ...(sampler.Sampler):\n",
    "        name = ...\n",
    "        @staticmethod\n",
    "        def sample_points(...):\n",
    "            ...\n",
    "</code>"
   ]
  },
  {
   "cell_type": "code",
   "execution_count": null,
   "metadata": {},
   "outputs": [],
   "source": []
  }
 ],
 "metadata": {
  "kernelspec": {
   "display_name": "Python [conda env:.conda-conda-sampling-methods] *",
   "language": "python",
   "name": "conda-env-.conda-conda-sampling-methods-py"
  },
  "language_info": {
   "codemirror_mode": {
    "name": "ipython",
    "version": 3
   },
   "file_extension": ".py",
   "mimetype": "text/x-python",
   "name": "python",
   "nbconvert_exporter": "python",
   "pygments_lexer": "ipython3",
   "version": "3.8.13"
  }
 },
 "nbformat": 4,
 "nbformat_minor": 4
}
